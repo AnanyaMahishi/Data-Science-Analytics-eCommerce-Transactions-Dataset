{
  "nbformat": 4,
  "nbformat_minor": 0,
  "metadata": {
    "colab": {
      "provenance": []
    },
    "kernelspec": {
      "name": "python3",
      "display_name": "Python 3"
    },
    "language_info": {
      "name": "python"
    }
  },
  "cells": [
    {
      "cell_type": "code",
      "execution_count": 24,
      "metadata": {
        "id": "2btbBInLrv0j"
      },
      "outputs": [],
      "source": [
        "import pandas as pd\n",
        "import numpy as np\n",
        "from sklearn.cluster import KMeans\n",
        "from sklearn.metrics.pairwise import cosine_similarity\n",
        "from sklearn.preprocessing import StandardScaler\n",
        "from scipy.sparse.linalg import svds\n",
        "\n",
        "# Load datasets\n",
        "customers = pd.read_csv(\"Customers.csv\")\n",
        "products = pd.read_csv(\"Products.csv\")\n",
        "transactions = pd.read_csv(\"Transactions.csv\")\n"
      ]
    },
    {
      "cell_type": "code",
      "source": [
        "# Preprocessing: Aggregate transaction data\n",
        "transactions = transactions.merge(products, on=\"ProductID\", suffixes=('', '_product'))\n",
        "transactions['TotalValue'] = transactions['TotalValue']\n",
        "customer_summary = transactions.groupby(\"CustomerID\").agg({\n",
        "    'TotalValue': 'sum',\n",
        "    'TransactionID': 'count',\n",
        "    'Category': lambda x: x.mode()[0] if len(x.mode()) > 0 else None\n",
        "}).reset_index()\n",
        "customer_summary.rename(columns={\n",
        "    'TotalValue': 'TotalSpend',\n",
        "    'TransactionID': 'TransactionCount',\n",
        "    'Category': 'FavoriteCategory'\n",
        "}, inplace=True)"
      ],
      "metadata": {
        "id": "FcQHnhoJuIhq"
      },
      "execution_count": 25,
      "outputs": []
    },
    {
      "cell_type": "code",
      "source": [
        "# Merge with customer data\n",
        "customer_data = customers.merge(customer_summary, on=\"CustomerID\", how=\"left\")\n",
        "customer_data[\"SignupYear\"] = pd.to_datetime(customer_data[\"SignupDate\"]).dt.year"
      ],
      "metadata": {
        "id": "Jo4cxRs5w7Na"
      },
      "execution_count": 26,
      "outputs": []
    },
    {
      "cell_type": "code",
      "source": [
        "# One-hot encoding for categorical features\n",
        "customer_data = pd.get_dummies(customer_data, columns=[\"Region\", \"FavoriteCategory\"], drop_first=True)"
      ],
      "metadata": {
        "id": "-cVq4Vl0w-b_"
      },
      "execution_count": 27,
      "outputs": []
    },
    {
      "cell_type": "markdown",
      "source": [
        "We perform one-hot encoding on the categorical columns Region and FavoriteCategory to convert them into binary (0/1) features. This is necessary for machine learning algorithms, which do not natively handle categorical data"
      ],
      "metadata": {
        "id": "RYfRe63SzXMp"
      }
    },
    {
      "cell_type": "code",
      "source": [
        "# Fill missing values\n",
        "customer_data.fillna(0, inplace=True)\n"
      ],
      "metadata": {
        "id": "o30iDputxCTQ"
      },
      "execution_count": 28,
      "outputs": []
    },
    {
      "cell_type": "code",
      "source": [
        "# Feature selection\n",
        "features = [\"TotalSpend\", \"TransactionCount\"] + [col for col in customer_data.columns if \"Region_\" in col or \"FavoriteCategory_\" in col]\n",
        "X = customer_data[features]\n",
        "\n"
      ],
      "metadata": {
        "id": "e-GJ-0usxFYD"
      },
      "execution_count": 29,
      "outputs": []
    },
    {
      "cell_type": "markdown",
      "source": [
        "We select the features that will be used in our model to represent our customer.\n",
        "- TotalSpend, TransactionCount represent important customer behavior metrics on their purchases.\n",
        "- The one-hot encoded columns for Region and FavoriteCategory represent categorical characteristics of the customers."
      ],
      "metadata": {
        "id": "fYrsrjY1zeKU"
      }
    },
    {
      "cell_type": "code",
      "source": [
        "# Normalize features\n",
        "scaler = StandardScaler()\n",
        "X_scaled = scaler.fit_transform(X)\n",
        "\n",
        "# Step 1: Dimensionality Reduction with SVD\n",
        "U, sigma, Vt = svds(X_scaled, k=5)  # Reduce to 5 latent dimensions\n",
        "latent_features = U @ np.diag(sigma)\n",
        "\n",
        "# Step 2: Clustering in Latent Space\n",
        "kmeans = KMeans(n_clusters=5, random_state=42)  # Adjust number of clusters as needed\n",
        "customer_data[\"Cluster\"] = kmeans.fit_predict(latent_features)"
      ],
      "metadata": {
        "id": "4gquUxIWz8_q"
      },
      "execution_count": null,
      "outputs": []
    },
    {
      "cell_type": "markdown",
      "source": [
        "- To ensure that all features contribute equally to the model, we normalize\n",
        "- We apply SVD to reduce the dimensionality of the dataset. SVD decomposes the dataset into three matrices, and by retaining only the top k=5 singular values.- we reduce the number of features while preserving the most significant patterns.\n",
        "- latent_features represents a compressed version of the original data, which can be used for clustering.\n",
        "\n"
      ],
      "metadata": {
        "id": "uW2iqWQa0ANq"
      }
    },
    {
      "cell_type": "code",
      "source": [
        "# Step 3: Compute Similarity within Clusters\n",
        "lookalike_map = {}\n",
        "customer_ids = customer_data[\"CustomerID\"].values\n",
        "for i, customer_id in enumerate(customer_ids[:20]):\n",
        "    cluster = customer_data.loc[customer_data[\"CustomerID\"] == customer_id, \"Cluster\"].values[0]\n",
        "    cluster_members = customer_data[customer_data[\"Cluster\"] == cluster]\n",
        "    similarities = cosine_similarity([latent_features[i]], latent_features[cluster_members.index])[0]\n",
        "    cluster_members[\"Similarity\"] = similarities\n",
        "    top_3 = cluster_members.nlargest(4, \"Similarity\")[1:4][[\"CustomerID\", \"Similarity\"]]  # Exclude self\n",
        "    lookalike_map[customer_id] = [(row.CustomerID, round(row.Similarity, 4)) for _, row in top_3.iterrows()]"
      ],
      "metadata": {
        "colab": {
          "base_uri": "https://localhost:8080/"
        },
        "id": "dKXGInrBxKg2",
        "outputId": "e69171fc-d119-408f-fc98-96b9a4e7db11"
      },
      "execution_count": 30,
      "outputs": [
        {
          "output_type": "stream",
          "name": "stderr",
          "text": [
            "<ipython-input-30-c9fca7dda930>:8: SettingWithCopyWarning: \n",
            "A value is trying to be set on a copy of a slice from a DataFrame.\n",
            "Try using .loc[row_indexer,col_indexer] = value instead\n",
            "\n",
            "See the caveats in the documentation: https://pandas.pydata.org/pandas-docs/stable/user_guide/indexing.html#returning-a-view-versus-a-copy\n",
            "  cluster_members[\"Similarity\"] = similarities\n",
            "<ipython-input-30-c9fca7dda930>:8: SettingWithCopyWarning: \n",
            "A value is trying to be set on a copy of a slice from a DataFrame.\n",
            "Try using .loc[row_indexer,col_indexer] = value instead\n",
            "\n",
            "See the caveats in the documentation: https://pandas.pydata.org/pandas-docs/stable/user_guide/indexing.html#returning-a-view-versus-a-copy\n",
            "  cluster_members[\"Similarity\"] = similarities\n",
            "<ipython-input-30-c9fca7dda930>:8: SettingWithCopyWarning: \n",
            "A value is trying to be set on a copy of a slice from a DataFrame.\n",
            "Try using .loc[row_indexer,col_indexer] = value instead\n",
            "\n",
            "See the caveats in the documentation: https://pandas.pydata.org/pandas-docs/stable/user_guide/indexing.html#returning-a-view-versus-a-copy\n",
            "  cluster_members[\"Similarity\"] = similarities\n",
            "<ipython-input-30-c9fca7dda930>:8: SettingWithCopyWarning: \n",
            "A value is trying to be set on a copy of a slice from a DataFrame.\n",
            "Try using .loc[row_indexer,col_indexer] = value instead\n",
            "\n",
            "See the caveats in the documentation: https://pandas.pydata.org/pandas-docs/stable/user_guide/indexing.html#returning-a-view-versus-a-copy\n",
            "  cluster_members[\"Similarity\"] = similarities\n",
            "<ipython-input-30-c9fca7dda930>:8: SettingWithCopyWarning: \n",
            "A value is trying to be set on a copy of a slice from a DataFrame.\n",
            "Try using .loc[row_indexer,col_indexer] = value instead\n",
            "\n",
            "See the caveats in the documentation: https://pandas.pydata.org/pandas-docs/stable/user_guide/indexing.html#returning-a-view-versus-a-copy\n",
            "  cluster_members[\"Similarity\"] = similarities\n",
            "<ipython-input-30-c9fca7dda930>:8: SettingWithCopyWarning: \n",
            "A value is trying to be set on a copy of a slice from a DataFrame.\n",
            "Try using .loc[row_indexer,col_indexer] = value instead\n",
            "\n",
            "See the caveats in the documentation: https://pandas.pydata.org/pandas-docs/stable/user_guide/indexing.html#returning-a-view-versus-a-copy\n",
            "  cluster_members[\"Similarity\"] = similarities\n",
            "<ipython-input-30-c9fca7dda930>:8: SettingWithCopyWarning: \n",
            "A value is trying to be set on a copy of a slice from a DataFrame.\n",
            "Try using .loc[row_indexer,col_indexer] = value instead\n",
            "\n",
            "See the caveats in the documentation: https://pandas.pydata.org/pandas-docs/stable/user_guide/indexing.html#returning-a-view-versus-a-copy\n",
            "  cluster_members[\"Similarity\"] = similarities\n",
            "<ipython-input-30-c9fca7dda930>:8: SettingWithCopyWarning: \n",
            "A value is trying to be set on a copy of a slice from a DataFrame.\n",
            "Try using .loc[row_indexer,col_indexer] = value instead\n",
            "\n",
            "See the caveats in the documentation: https://pandas.pydata.org/pandas-docs/stable/user_guide/indexing.html#returning-a-view-versus-a-copy\n",
            "  cluster_members[\"Similarity\"] = similarities\n",
            "<ipython-input-30-c9fca7dda930>:8: SettingWithCopyWarning: \n",
            "A value is trying to be set on a copy of a slice from a DataFrame.\n",
            "Try using .loc[row_indexer,col_indexer] = value instead\n",
            "\n",
            "See the caveats in the documentation: https://pandas.pydata.org/pandas-docs/stable/user_guide/indexing.html#returning-a-view-versus-a-copy\n",
            "  cluster_members[\"Similarity\"] = similarities\n",
            "<ipython-input-30-c9fca7dda930>:8: SettingWithCopyWarning: \n",
            "A value is trying to be set on a copy of a slice from a DataFrame.\n",
            "Try using .loc[row_indexer,col_indexer] = value instead\n",
            "\n",
            "See the caveats in the documentation: https://pandas.pydata.org/pandas-docs/stable/user_guide/indexing.html#returning-a-view-versus-a-copy\n",
            "  cluster_members[\"Similarity\"] = similarities\n",
            "<ipython-input-30-c9fca7dda930>:8: SettingWithCopyWarning: \n",
            "A value is trying to be set on a copy of a slice from a DataFrame.\n",
            "Try using .loc[row_indexer,col_indexer] = value instead\n",
            "\n",
            "See the caveats in the documentation: https://pandas.pydata.org/pandas-docs/stable/user_guide/indexing.html#returning-a-view-versus-a-copy\n",
            "  cluster_members[\"Similarity\"] = similarities\n",
            "<ipython-input-30-c9fca7dda930>:8: SettingWithCopyWarning: \n",
            "A value is trying to be set on a copy of a slice from a DataFrame.\n",
            "Try using .loc[row_indexer,col_indexer] = value instead\n",
            "\n",
            "See the caveats in the documentation: https://pandas.pydata.org/pandas-docs/stable/user_guide/indexing.html#returning-a-view-versus-a-copy\n",
            "  cluster_members[\"Similarity\"] = similarities\n",
            "<ipython-input-30-c9fca7dda930>:8: SettingWithCopyWarning: \n",
            "A value is trying to be set on a copy of a slice from a DataFrame.\n",
            "Try using .loc[row_indexer,col_indexer] = value instead\n",
            "\n",
            "See the caveats in the documentation: https://pandas.pydata.org/pandas-docs/stable/user_guide/indexing.html#returning-a-view-versus-a-copy\n",
            "  cluster_members[\"Similarity\"] = similarities\n",
            "<ipython-input-30-c9fca7dda930>:8: SettingWithCopyWarning: \n",
            "A value is trying to be set on a copy of a slice from a DataFrame.\n",
            "Try using .loc[row_indexer,col_indexer] = value instead\n",
            "\n",
            "See the caveats in the documentation: https://pandas.pydata.org/pandas-docs/stable/user_guide/indexing.html#returning-a-view-versus-a-copy\n",
            "  cluster_members[\"Similarity\"] = similarities\n",
            "<ipython-input-30-c9fca7dda930>:8: SettingWithCopyWarning: \n",
            "A value is trying to be set on a copy of a slice from a DataFrame.\n",
            "Try using .loc[row_indexer,col_indexer] = value instead\n",
            "\n",
            "See the caveats in the documentation: https://pandas.pydata.org/pandas-docs/stable/user_guide/indexing.html#returning-a-view-versus-a-copy\n",
            "  cluster_members[\"Similarity\"] = similarities\n",
            "<ipython-input-30-c9fca7dda930>:8: SettingWithCopyWarning: \n",
            "A value is trying to be set on a copy of a slice from a DataFrame.\n",
            "Try using .loc[row_indexer,col_indexer] = value instead\n",
            "\n",
            "See the caveats in the documentation: https://pandas.pydata.org/pandas-docs/stable/user_guide/indexing.html#returning-a-view-versus-a-copy\n",
            "  cluster_members[\"Similarity\"] = similarities\n",
            "<ipython-input-30-c9fca7dda930>:8: SettingWithCopyWarning: \n",
            "A value is trying to be set on a copy of a slice from a DataFrame.\n",
            "Try using .loc[row_indexer,col_indexer] = value instead\n",
            "\n",
            "See the caveats in the documentation: https://pandas.pydata.org/pandas-docs/stable/user_guide/indexing.html#returning-a-view-versus-a-copy\n",
            "  cluster_members[\"Similarity\"] = similarities\n",
            "<ipython-input-30-c9fca7dda930>:8: SettingWithCopyWarning: \n",
            "A value is trying to be set on a copy of a slice from a DataFrame.\n",
            "Try using .loc[row_indexer,col_indexer] = value instead\n",
            "\n",
            "See the caveats in the documentation: https://pandas.pydata.org/pandas-docs/stable/user_guide/indexing.html#returning-a-view-versus-a-copy\n",
            "  cluster_members[\"Similarity\"] = similarities\n",
            "<ipython-input-30-c9fca7dda930>:8: SettingWithCopyWarning: \n",
            "A value is trying to be set on a copy of a slice from a DataFrame.\n",
            "Try using .loc[row_indexer,col_indexer] = value instead\n",
            "\n",
            "See the caveats in the documentation: https://pandas.pydata.org/pandas-docs/stable/user_guide/indexing.html#returning-a-view-versus-a-copy\n",
            "  cluster_members[\"Similarity\"] = similarities\n",
            "<ipython-input-30-c9fca7dda930>:8: SettingWithCopyWarning: \n",
            "A value is trying to be set on a copy of a slice from a DataFrame.\n",
            "Try using .loc[row_indexer,col_indexer] = value instead\n",
            "\n",
            "See the caveats in the documentation: https://pandas.pydata.org/pandas-docs/stable/user_guide/indexing.html#returning-a-view-versus-a-copy\n",
            "  cluster_members[\"Similarity\"] = similarities\n"
          ]
        }
      ]
    },
    {
      "cell_type": "code",
      "source": [
        "# Save to Lookalike.csv\n",
        "lookalike_df = pd.DataFrame({\n",
        "    \"CustomerID\": lookalike_map.keys(),\n",
        "    \"Lookalikes\": [str(v) for v in lookalike_map.values()]\n",
        "})\n",
        "lookalike_df.to_csv(\"Lookalike.csv\", index=False)\n",
        "\n",
        "# Print a sample of the map\n",
        "print(lookalike_df.head())"
      ],
      "metadata": {
        "colab": {
          "base_uri": "https://localhost:8080/"
        },
        "id": "_SXBosYBxPpW",
        "outputId": "30c3b3b4-f5a5-41e7-d4ba-9c2ea7b093a1"
      },
      "execution_count": 31,
      "outputs": [
        {
          "output_type": "stream",
          "name": "stdout",
          "text": [
            "  CustomerID                                         Lookalikes\n",
            "0      C0001  [('C0190', 0.9985), ('C0048', 0.9973), ('C0091...\n",
            "1      C0002  [('C0088', 0.9825), ('C0092', 0.9813), ('C0040...\n",
            "2      C0003  [('C0052', 0.9995), ('C0076', 0.9981), ('C0031...\n",
            "3      C0004  [('C0087', 0.9991), ('C0155', 0.9948), ('C0082...\n",
            "4      C0005  [('C0186', 0.9993), ('C0007', 0.9966), ('C0140...\n"
          ]
        }
      ]
    }
  ]
}